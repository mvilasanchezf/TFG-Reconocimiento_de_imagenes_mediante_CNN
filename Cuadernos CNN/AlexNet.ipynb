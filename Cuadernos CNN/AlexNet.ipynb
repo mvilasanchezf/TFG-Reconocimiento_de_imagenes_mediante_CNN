{
 "cells": [
  {
   "cell_type": "markdown",
   "id": "7c9717ec-f49f-4032-829a-a4e4de409a1c",
   "metadata": {},
   "source": [
    "# AlexNet\n",
    "\n",
    "## Importamos librerias"
   ]
  },
  {
   "cell_type": "code",
   "execution_count": 1,
   "id": "08482d97-ab40-4fee-b737-32261c038f2a",
   "metadata": {
    "tags": []
   },
   "outputs": [],
   "source": [
    "import time\n",
    "import copy\n",
    "import numpy as np\n",
    "import pandas as pd\n",
    "from typing import Tuple, Dict, List\n",
    "from collections import OrderedDict\n",
    "\n",
    "import torch\n",
    "import torch.nn as nn\n",
    "import torch.optim as optim\n",
    "from torch.optim import lr_scheduler\n",
    "import torch.backends.cudnn as cudnn\n",
    "import torch.nn.functional as F\n",
    "\n",
    "import torchvision\n",
    "from torchvision import datasets, models, transforms\n",
    "\n",
    "from torchinfo import summary"
   ]
  },
  {
   "cell_type": "markdown",
   "id": "f4ba7d3c-0489-43ed-8987-1efd18782129",
   "metadata": {},
   "source": [
    "Definimos varios parámetros que vamos a utilizar a lo largo del cuaderno, por ejemplo el diccionario que vamos a utilizar para alamacenar los valores de precisión y perdida que se van generando durante el entrenamiento. La resolución de a la que vamos a ajutar las imágenes. El directorio donde se almacenan los datos. Etc."
   ]
  },
  {
   "cell_type": "code",
   "execution_count": 2,
   "id": "d726595d-d4b1-45a9-abf6-d1d599a57c17",
   "metadata": {},
   "outputs": [],
   "source": [
    "# Creamos un diccionario vacio para almacenar los resultados\n",
    "results = {'train_loss': [],\n",
    "        'train_acc': [],\n",
    "        'val_loss': [],\n",
    "        'val_acc': []\n",
    "    }\n",
    "cudnn.benchmark = True\n",
    "\n",
    "data_dir = './data'\n",
    "img_size = (224, 224)\n",
    "bs = 16\n",
    "mean = np.array([0.485, 0.456, 0.406])\n",
    "std = np.array([0.229, 0.224, 0.225])\n",
    "num_epochs = 25\n",
    "output_classes = 10000\n",
    "device = torch.device('cuda' if torch.cuda.is_available() else 'cpu')"
   ]
  },
  {
   "cell_type": "markdown",
   "id": "3bcf312e-aee0-491d-b329-e63659e38cf2",
   "metadata": {},
   "source": [
    "## Definimos la transformación\n",
    "\n",
    "Definimos las diferentes transformaciones que se van a aplicar previamente sobre los datos:\n",
    "\n",
    "* Redimensionamos todas las imágenes al mismo tamaño (224x224).\n",
    "* Aleatoriamente se aplica un giro horizontal de la imagen.\n",
    "* Rotamos la imagen 10 grados de forma aleatoria.\n",
    "* Los trasformaremos en tensores y normalizamos $\\frac{x-mean}{std}$ centrado en 0 y [-1, 1].\n",
    "\n",
    "Inicialmente, vamos a aplicar la misma transformación al conjunto de datos de entrenamiento que al conjunto de datos de validación. Pero hemos escrito el código de forma que se puedan aplicar diferentes transformaciones al conjunto de datos de entrenamiento que al conjunto de datos de validación."
   ]
  },
  {
   "cell_type": "code",
   "execution_count": 3,
   "id": "3fe96364-1e6b-4483-8b3f-1d265a3b3971",
   "metadata": {},
   "outputs": [],
   "source": [
    "data_transforms = {\n",
    "    'train': transforms.Compose([\n",
    "        transforms.Resize(img_size),\n",
    "        transforms.RandomHorizontalFlip(),\n",
    "        transforms.RandomRotation(degrees=10),\n",
    "        transforms.ToTensor(),\n",
    "        transforms.Normalize(mean, std)\n",
    "    ]),\n",
    "    'val': transforms.Compose([\n",
    "        transforms.Resize(img_size),\n",
    "        transforms.RandomHorizontalFlip(),\n",
    "        transforms.RandomRotation(degrees=10),\n",
    "        transforms.ToTensor(),\n",
    "        transforms.Normalize(mean, std)\n",
    "    ]),\n",
    "}"
   ]
  },
  {
   "cell_type": "markdown",
   "id": "07414d2e-7bc1-4c9a-b6b1-396220714bf0",
   "metadata": {},
   "source": [
    "## Carga de datos\n",
    "\n",
    "Hemos decidido utilizar el conjunto de datos del iNat Challenge 2.021 para entrenar y validar nuestro modelo. Contiene imágenes de 10.000 especies diferentes. El conjunto de datos de entrenamiento mini formado por 500.000 imágenes, que contiene 50 imágenes de cada una de las especies catalogadas. El conjunto de datos de validación contiene para cada especie 10 imágenes, sumando un total de 100.000 imágenes.\n",
    "\n",
    "80% de los datos forman parte del conjunto de datos de entrenamiento y el 20% de los datos son el conjunto de validación."
   ]
  },
  {
   "cell_type": "code",
   "execution_count": 4,
   "id": "58102926-98f3-431f-9c21-86ab39dc4d23",
   "metadata": {},
   "outputs": [
    {
     "name": "stdout",
     "output_type": "stream",
     "text": [
      "Conjuntos de entrenamiento: {'train': 500000, 'val': 100000} clases: 10000\n"
     ]
    }
   ],
   "source": [
    "image_datasets = {\n",
    "    x: datasets.INaturalist(\n",
    "        root = data_dir,\n",
    "        version = '2021_train_mini' if x == 'train' else '2021_valid',\n",
    "        transform = data_transforms[x],\n",
    "        download = False\n",
    "    )\n",
    "    for x in ['train', 'val']\n",
    "}\n",
    "dataloaders = {\n",
    "    x: torch.utils.data.DataLoader(\n",
    "        image_datasets[x],\n",
    "        batch_size = bs,\n",
    "        shuffle = True,\n",
    "        num_workers = 4\n",
    "    )\n",
    "    for x in ['train', 'val']\n",
    "}\n",
    "dataset_sizes = {x: len(image_datasets[x]) for x in ['train', 'val']}\n",
    "inputs, classes = next(iter(dataloaders['train']))\n",
    "print(f'Conjuntos de entrenamiento: {dataset_sizes} clases: {output_classes}')"
   ]
  },
  {
   "cell_type": "markdown",
   "id": "e689afb8-4901-4ce2-92a9-f3530b9683a6",
   "metadata": {},
   "source": [
    "## Función de entrenamiento\n",
    "\n",
    "Definimos la función que nos servirá para entrenar nuestra red neuronal. Esta función devuelve como resultado el modelo con los parámetros ajustados a la ejecucion del entrenamiento en el que obtivo un mayor porcentaje de acierto en la validación del modelo. "
   ]
  },
  {
   "cell_type": "code",
   "execution_count": 5,
   "id": "22993dd0-5e8f-4689-be79-67391b1ed47a",
   "metadata": {},
   "outputs": [],
   "source": [
    "def train_model(model, criterion, optimizer, scheduler, num_epochs=20):\n",
    "    since = time.time()\n",
    "\n",
    "    best_model_wts = copy.deepcopy(model.state_dict())\n",
    "    best_acc = 0.0\n",
    "\n",
    "    for epoch in range(num_epochs):\n",
    "        print(f'Entrenando etapa {epoch + 1} de {num_epochs} ...')\n",
    "        epoch_init = time.time()\n",
    "\n",
    "        # Cada iteración tiene una fase de validación y una fase de entrenamiento\n",
    "        for phase in ['train', 'val']:\n",
    "            if phase == 'train':\n",
    "                model.train()  # Establece el modelo en modo entrenamiento\n",
    "            else:\n",
    "                model.eval()   # Establece el modelo en modo validación\n",
    "\n",
    "            running_loss = 0.0\n",
    "            running_corrects = 0\n",
    "\n",
    "            # Itera sobre los datos\n",
    "            for inputs, labels in dataloaders[phase]:\n",
    "                inputs = inputs.to(device)\n",
    "                labels = labels.to(device)\n",
    "\n",
    "                # pone a cero los gradientes de los tensores optimizados\n",
    "                optimizer.zero_grad()\n",
    "\n",
    "                # track historial adelante solo en la fase de entrenamiento\n",
    "                with torch.set_grad_enabled(phase == 'train'):\n",
    "                    outputs = model(inputs)\n",
    "                    _, preds = torch.max(outputs, 1)\n",
    "                    loss = criterion(outputs, labels)\n",
    "\n",
    "                    # Solo si está en la fase de entrenamiento retroceder + optimizar\n",
    "                    if phase == 'train':\n",
    "                        loss.backward()\n",
    "                        optimizer.step()\n",
    "\n",
    "                # estatisticas\n",
    "                running_loss += loss.item() * inputs.size(0)\n",
    "                running_corrects += torch.sum(preds == labels.data)\n",
    "            if phase == 'train':\n",
    "                scheduler.step()\n",
    "\n",
    "            epoch_loss = running_loss / dataset_sizes[phase]\n",
    "            epoch_acc = running_corrects.double() / dataset_sizes[phase]\n",
    "\n",
    "            if phase == 'train':\n",
    "                results[\"train_loss\"].append(epoch_loss)\n",
    "                results[\"train_acc\"].append(epoch_acc.item())\n",
    "                print(f'Entrenamiento\\tPerdida: {epoch_loss:.4f}\\tPrecisión: {epoch_acc:.4f}')\n",
    "            else:\n",
    "                tittle = 'Validación'\n",
    "                results[\"val_loss\"].append(epoch_loss)\n",
    "                results[\"val_acc\"].append(epoch_acc.item())\n",
    "                print(f'Validación\\tPerdida: {epoch_loss:.4f}\\tPrecisión: {epoch_acc:.4f}'\n",
    "                      f'\\t{(time.time() - epoch_init)//60:.0f}min {(time.time() - epoch_init)%60:.0f}seg')\n",
    "            \n",
    "            # copia del modelo con mejor porcentaje de acierto en la validación\n",
    "            if phase == 'val' and epoch_acc > best_acc:\n",
    "                print('Guardando el modelo ...')\n",
    "                best_acc = epoch_acc\n",
    "                best_model_wts = copy.deepcopy(model.state_dict())\n",
    "\n",
    "        print()\n",
    "\n",
    "    time_elapsed = time.time() - since\n",
    "    if time_elapsed < 3600:\n",
    "        print(f'Entrenamiento completado en: {time_elapsed // 60:.0f}min. {time_elapsed % 60:.0f}seg.')\n",
    "    else:\n",
    "        rest_elapsed = time_elapsed % 3600\n",
    "        print(f'Entrenamiento completado en: {time_elapsed // 3600:.0f}horas {rest_elapsed // 60:.0f}min. {rest_elapsed % 60:.0f}seg.')\n",
    "    print(f'Mejor precisión validación: {best_acc:4f}')\n",
    "\n",
    "    # guarda los mejores pesos del modelo\n",
    "    model.load_state_dict(best_model_wts)\n",
    "    return model"
   ]
  },
  {
   "cell_type": "markdown",
   "id": "6d7e8cdd-e50c-4096-8859-fd154ec6444a",
   "metadata": {},
   "source": [
    "## Cargando el modelo sin inicializar\n",
    "\n",
    "El modelo lo cargamos sin los pesos de preentrenamiento de ImageNet"
   ]
  },
  {
   "cell_type": "code",
   "execution_count": 6,
   "id": "ba0c8662-1d16-4926-b54e-afaee0207b1f",
   "metadata": {},
   "outputs": [
    {
     "data": {
      "text/plain": [
       "Sequential(\n",
       "  (0): Dropout(p=0.5, inplace=False)\n",
       "  (1): Linear(in_features=9216, out_features=4096, bias=True)\n",
       "  (2): ReLU(inplace=True)\n",
       "  (3): Dropout(p=0.5, inplace=False)\n",
       "  (4): Linear(in_features=4096, out_features=4096, bias=True)\n",
       "  (5): ReLU(inplace=True)\n",
       "  (6): Linear(in_features=4096, out_features=1000, bias=True)\n",
       ")"
      ]
     },
     "execution_count": 6,
     "metadata": {},
     "output_type": "execute_result"
    }
   ],
   "source": [
    "model = models.alexnet(weights=None)\n",
    "model.classifier"
   ]
  },
  {
   "cell_type": "markdown",
   "id": "ae642b2c-0b0b-4d15-96af-91d9de9398ac",
   "metadata": {},
   "source": [
    "## Modificamos el clasificador\n",
    "\n",
    "Adaptamos la última capa para que la salida coincida con el número de clases que tenemos a clasificar"
   ]
  },
  {
   "cell_type": "code",
   "execution_count": 7,
   "id": "e08a0912-882f-4694-bec7-74feee29385d",
   "metadata": {},
   "outputs": [],
   "source": [
    "num_ftrs = model.classifier[1].in_features\n",
    "\n",
    "classifier = nn.Sequential(OrderedDict([\n",
    "    ('0', nn.Dropout(p=0.5, inplace=False)),\n",
    "    ('1', nn.Linear(num_ftrs, 4096)),\n",
    "    ('2', nn.ReLU(inplace=True)),\n",
    "    ('3', nn.Dropout(p=0.5, inplace=False)),\n",
    "    ('4', nn.Linear(4096, 4096)),\n",
    "    ('5', nn.ReLU(inplace=True)),\n",
    "    ('6', nn.Linear(4096, output_classes)),\n",
    "]))"
   ]
  },
  {
   "cell_type": "code",
   "execution_count": 8,
   "id": "4576cc0b-6e46-4675-86b0-fdd5c46aa4eb",
   "metadata": {},
   "outputs": [
    {
     "data": {
      "text/plain": [
       "Sequential(\n",
       "  (0): Dropout(p=0.5, inplace=False)\n",
       "  (1): Linear(in_features=9216, out_features=4096, bias=True)\n",
       "  (2): ReLU(inplace=True)\n",
       "  (3): Dropout(p=0.5, inplace=False)\n",
       "  (4): Linear(in_features=4096, out_features=4096, bias=True)\n",
       "  (5): ReLU(inplace=True)\n",
       "  (6): Linear(in_features=4096, out_features=10000, bias=True)\n",
       ")"
      ]
     },
     "execution_count": 8,
     "metadata": {},
     "output_type": "execute_result"
    }
   ],
   "source": [
    "classifier"
   ]
  },
  {
   "cell_type": "code",
   "execution_count": 9,
   "id": "c72add95-c6be-4919-89c3-298e3e3ebb5c",
   "metadata": {},
   "outputs": [],
   "source": [
    "model.classifier = classifier\n",
    "\n",
    "model = model.to(device)\n",
    "\n",
    "criterion = nn.CrossEntropyLoss()\n",
    "\n",
    "# Se optimizan todos los parámetros\n",
    "optimizer = optim.SGD(model.parameters(), lr=0.001, momentum=0.9)\n",
    "\n",
    "# Se decrementa LR por un factor 0.1 cada 7 iteraciones\n",
    "exp_lr_scheduler = lr_scheduler.StepLR(optimizer, step_size=7, gamma=0.1)"
   ]
  },
  {
   "cell_type": "code",
   "execution_count": 10,
   "id": "544dc2f5-b4e4-4c36-85cd-5a97b4e86078",
   "metadata": {},
   "outputs": [
    {
     "data": {
      "text/plain": [
       "=================================================================\n",
       "Layer (type:depth-idx)                   Param #\n",
       "=================================================================\n",
       "AlexNet                                  --\n",
       "├─Sequential: 1-1                        --\n",
       "│    └─Conv2d: 2-1                       23,296\n",
       "│    └─ReLU: 2-2                         --\n",
       "│    └─MaxPool2d: 2-3                    --\n",
       "│    └─Conv2d: 2-4                       307,392\n",
       "│    └─ReLU: 2-5                         --\n",
       "│    └─MaxPool2d: 2-6                    --\n",
       "│    └─Conv2d: 2-7                       663,936\n",
       "│    └─ReLU: 2-8                         --\n",
       "│    └─Conv2d: 2-9                       884,992\n",
       "│    └─ReLU: 2-10                        --\n",
       "│    └─Conv2d: 2-11                      590,080\n",
       "│    └─ReLU: 2-12                        --\n",
       "│    └─MaxPool2d: 2-13                   --\n",
       "├─AdaptiveAvgPool2d: 1-2                 --\n",
       "├─Sequential: 1-3                        --\n",
       "│    └─Dropout: 2-14                     --\n",
       "│    └─Linear: 2-15                      37,752,832\n",
       "│    └─ReLU: 2-16                        --\n",
       "│    └─Dropout: 2-17                     --\n",
       "│    └─Linear: 2-18                      16,781,312\n",
       "│    └─ReLU: 2-19                        --\n",
       "│    └─Linear: 2-20                      40,970,000\n",
       "=================================================================\n",
       "Total params: 97,973,840\n",
       "Trainable params: 97,973,840\n",
       "Non-trainable params: 0\n",
       "================================================================="
      ]
     },
     "execution_count": 10,
     "metadata": {},
     "output_type": "execute_result"
    }
   ],
   "source": [
    "summary(model)"
   ]
  },
  {
   "cell_type": "markdown",
   "id": "493f268c-478c-4352-92fe-697e24ea9f37",
   "metadata": {},
   "source": [
    "## Entrenamos el modelo"
   ]
  },
  {
   "cell_type": "code",
   "execution_count": 11,
   "id": "a0e4b7b4-1bd9-4f80-b11e-10e1d6f31061",
   "metadata": {},
   "outputs": [
    {
     "name": "stdout",
     "output_type": "stream",
     "text": [
      "Entrenando etapa 1 de 25 ...\n",
      "Entrenamiento\tPerdida: 9.2108\tPrecisión: 0.0001\n",
      "Validación\tPerdida: 9.2098\tPrecisión: 0.0001\t19min 16seg\n",
      "Guardando el modelo ...\n",
      "\n",
      "Entrenando etapa 2 de 25 ...\n",
      "Entrenamiento\tPerdida: 9.1208\tPrecisión: 0.0001\n",
      "Validación\tPerdida: 9.0657\tPrecisión: 0.0002\t17min 45seg\n",
      "Guardando el modelo ...\n",
      "\n",
      "Entrenando etapa 3 de 25 ...\n",
      "Entrenamiento\tPerdida: 8.9636\tPrecisión: 0.0002\n",
      "Validación\tPerdida: 8.7204\tPrecisión: 0.0004\t18min 42seg\n",
      "Guardando el modelo ...\n",
      "\n",
      "Entrenando etapa 4 de 25 ...\n",
      "Entrenamiento\tPerdida: 8.3653\tPrecisión: 0.0018\n",
      "Validación\tPerdida: 7.8809\tPrecisión: 0.0042\t20min 55seg\n",
      "Guardando el modelo ...\n",
      "\n",
      "Entrenando etapa 5 de 25 ...\n",
      "Entrenamiento\tPerdida: 7.5112\tPrecisión: 0.0085\n",
      "Validación\tPerdida: 7.1148\tPrecisión: 0.0166\t19min 36seg\n",
      "Guardando el modelo ...\n",
      "\n",
      "Entrenando etapa 6 de 25 ...\n",
      "Entrenamiento\tPerdida: 6.8094\tPrecisión: 0.0232\n",
      "Validación\tPerdida: 6.5311\tPrecisión: 0.0341\t17min 29seg\n",
      "Guardando el modelo ...\n",
      "\n",
      "Entrenando etapa 7 de 25 ...\n",
      "Entrenamiento\tPerdida: 6.2528\tPrecisión: 0.0449\n",
      "Validación\tPerdida: 6.1250\tPrecisión: 0.0567\t19min 18seg\n",
      "Guardando el modelo ...\n",
      "\n",
      "Entrenando etapa 8 de 25 ...\n",
      "Entrenamiento\tPerdida: 5.3582\tPrecisión: 0.1073\n",
      "Validación\tPerdida: 5.6996\tPrecisión: 0.0933\t18min 38seg\n",
      "Guardando el modelo ...\n",
      "\n",
      "Entrenando etapa 9 de 25 ...\n",
      "Entrenamiento\tPerdida: 5.1704\tPrecisión: 0.1234\n",
      "Validación\tPerdida: 5.6368\tPrecisión: 0.0995\t19min 6seg\n",
      "Guardando el modelo ...\n",
      "\n",
      "Entrenando etapa 10 de 25 ...\n",
      "Entrenamiento\tPerdida: 5.0420\tPrecisión: 0.1344\n",
      "Validación\tPerdida: 5.5481\tPrecisión: 0.1043\t18min 23seg\n",
      "Guardando el modelo ...\n",
      "\n",
      "Entrenando etapa 11 de 25 ...\n",
      "Entrenamiento\tPerdida: 4.9239\tPrecisión: 0.1443\n",
      "Validación\tPerdida: 5.4987\tPrecisión: 0.1096\t18min 53seg\n",
      "Guardando el modelo ...\n",
      "\n",
      "Entrenando etapa 12 de 25 ...\n",
      "Entrenamiento\tPerdida: 4.8098\tPrecisión: 0.1544\n",
      "Validación\tPerdida: 5.4656\tPrecisión: 0.1144\t18min 26seg\n",
      "Guardando el modelo ...\n",
      "\n",
      "Entrenando etapa 13 de 25 ...\n",
      "Entrenamiento\tPerdida: 4.6952\tPrecisión: 0.1643\n",
      "Validación\tPerdida: 5.4223\tPrecisión: 0.1200\t18min 38seg\n",
      "Guardando el modelo ...\n",
      "\n",
      "Entrenando etapa 14 de 25 ...\n",
      "Entrenamiento\tPerdida: 4.5845\tPrecisión: 0.1746\n",
      "Validación\tPerdida: 5.4079\tPrecisión: 0.1207\t17min 53seg\n",
      "Guardando el modelo ...\n",
      "\n",
      "Entrenando etapa 15 de 25 ...\n",
      "Entrenamiento\tPerdida: 4.3227\tPrecisión: 0.2067\n",
      "Validación\tPerdida: 5.3794\tPrecisión: 0.1290\t17min 46seg\n",
      "Guardando el modelo ...\n",
      "\n",
      "Entrenando etapa 16 de 25 ...\n",
      "Entrenamiento\tPerdida: 4.2829\tPrecisión: 0.2122\n",
      "Validación\tPerdida: 5.3752\tPrecisión: 0.1306\t17min 28seg\n",
      "Guardando el modelo ...\n",
      "\n",
      "Entrenando etapa 17 de 25 ...\n",
      "Entrenamiento\tPerdida: 4.2616\tPrecisión: 0.2149\n",
      "Validación\tPerdida: 5.3653\tPrecisión: 0.1306\t18min 58seg\n",
      "Guardando el modelo ...\n",
      "\n",
      "Entrenando etapa 18 de 25 ...\n",
      "Entrenamiento\tPerdida: 4.2436\tPrecisión: 0.2165\n",
      "Validación\tPerdida: 5.3571\tPrecisión: 0.1320\t18min 50seg\n",
      "Guardando el modelo ...\n",
      "\n",
      "Entrenando etapa 19 de 25 ...\n",
      "Entrenamiento\tPerdida: 4.2224\tPrecisión: 0.2188\n",
      "Validación\tPerdida: 5.3717\tPrecisión: 0.1313\t18min 9seg\n",
      "\n",
      "Entrenando etapa 20 de 25 ...\n",
      "Entrenamiento\tPerdida: 4.2042\tPrecisión: 0.2206\n",
      "Validación\tPerdida: 5.3590\tPrecisión: 0.1326\t18min 28seg\n",
      "Guardando el modelo ...\n",
      "\n",
      "Entrenando etapa 21 de 25 ...\n",
      "Entrenamiento\tPerdida: 4.1858\tPrecisión: 0.2221\n",
      "Validación\tPerdida: 5.3557\tPrecisión: 0.1338\t17min 56seg\n",
      "Guardando el modelo ...\n",
      "\n",
      "Entrenando etapa 22 de 25 ...\n",
      "Entrenamiento\tPerdida: 4.1476\tPrecisión: 0.2278\n",
      "Validación\tPerdida: 5.3700\tPrecisión: 0.1343\t17min 30seg\n",
      "Guardando el modelo ...\n",
      "\n",
      "Entrenando etapa 23 de 25 ...\n",
      "Entrenamiento\tPerdida: 4.1455\tPrecisión: 0.2277\n",
      "Validación\tPerdida: 5.3632\tPrecisión: 0.1348\t17min 32seg\n",
      "Guardando el modelo ...\n",
      "\n",
      "Entrenando etapa 24 de 25 ...\n",
      "Entrenamiento\tPerdida: 4.1424\tPrecisión: 0.2283\n",
      "Validación\tPerdida: 5.3644\tPrecisión: 0.1350\t18min 7seg\n",
      "Guardando el modelo ...\n",
      "\n",
      "Entrenando etapa 25 de 25 ...\n",
      "Entrenamiento\tPerdida: 4.1405\tPrecisión: 0.2286\n",
      "Validación\tPerdida: 5.3690\tPrecisión: 0.1337\t18min 1seg\n",
      "\n",
      "Entrenamiento completado en: 7horas 41min. 47seg.\n",
      "Mejor precisión validación: 0.135000\n"
     ]
    }
   ],
   "source": [
    "model = train_model(model, criterion, optimizer, exp_lr_scheduler, num_epochs)"
   ]
  },
  {
   "cell_type": "markdown",
   "id": "0933e5aa-6d91-4121-8280-cd01b52a3de4",
   "metadata": {},
   "source": [
    "## Exportamos los resultados a un CSV\n",
    "\n",
    "Exportamos los resultados del entrenamiento a un fichero csv, separado por tabuladores"
   ]
  },
  {
   "cell_type": "code",
   "execution_count": 12,
   "id": "3ac5f4b0",
   "metadata": {},
   "outputs": [],
   "source": [
    "df_results = pd.DataFrame(results)\n",
    "df_results.to_csv('AlexNetNONE_results.txt', sep='\\t', index=False)"
   ]
  },
  {
   "cell_type": "markdown",
   "id": "3b2eabcf-30ed-4720-8f46-2b67bea98485",
   "metadata": {},
   "source": [
    "## Gráfica pérdida y precisión"
   ]
  },
  {
   "cell_type": "code",
   "execution_count": 13,
   "id": "83d23582",
   "metadata": {},
   "outputs": [],
   "source": [
    "import matplotlib.pyplot as plt\n",
    "def plot_curves(results: Dict[str, List[float]]):\n",
    "    \n",
    "    # Recuperamos los valores de pérdida de entrenamiento y validación\n",
    "    loss = results['train_loss']\n",
    "    test_loss = results['val_loss']\n",
    "\n",
    "    # Recuperamos los valores de precisión de entrenamiento y validación\n",
    "    accuracy = results['train_acc']\n",
    "    test_accuracy = results['val_acc']\n",
    "\n",
    "    # Número de iteraciones que tenemos\n",
    "    epochs = range(len(results['train_loss']))\n",
    "\n",
    "    # Definimos el gráfico\n",
    "    plt.figure(figsize=(15, 7))\n",
    "\n",
    "    # Pérdida\n",
    "    plt.subplot(1, 2, 1)\n",
    "    plt.plot(epochs, loss, label='Pérdida entrenamiento')\n",
    "    plt.plot(epochs, test_loss, label='Pérdida validacion')\n",
    "    plt.ylabel('Pérdida')\n",
    "    plt.xlabel('Iteraciones')\n",
    "    plt.legend()\n",
    "\n",
    "    # Precisión\n",
    "    plt.subplot(1, 2, 2)\n",
    "    plt.plot(epochs, accuracy, label='Precisión entrenamiento')\n",
    "    plt.plot(epochs, test_accuracy, label='Precisión validación')\n",
    "    plt.ylabel('Precisión')\n",
    "    plt.xlabel('Iteraciones')\n",
    "    plt.legend();"
   ]
  },
  {
   "cell_type": "code",
   "execution_count": 14,
   "id": "85d6efdf",
   "metadata": {},
   "outputs": [
    {
     "data": {
      "image/png": "[encoded data removed]",
      "text/plain": [
       "<Figure size 1500x700 with 2 Axes>"
      ]
     },
     "metadata": {},
     "output_type": "display_data"
    }
   ],
   "source": [
    "plot_curves(results)"
   ]
  }
 ],
 "metadata": {
  "kernelspec": {
   "display_name": "Python 3 (ipykernel)",
   "language": "python",
   "name": "python3"
  },
  "language_info": {
   "codemirror_mode": {
    "name": "ipython",
    "version": 3
   },
   "file_extension": ".py",
   "mimetype": "text/x-python",
   "name": "python",
   "nbconvert_exporter": "python",
   "pygments_lexer": "ipython3",
   "version": "3.9.13"
  }
 },
 "nbformat": 4,
 "nbformat_minor": 5
}

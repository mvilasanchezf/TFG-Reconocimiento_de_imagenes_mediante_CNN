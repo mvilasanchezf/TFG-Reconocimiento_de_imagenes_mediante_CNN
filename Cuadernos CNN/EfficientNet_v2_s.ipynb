{
 "cells": [
  {
   "attachments": {},
   "cell_type": "markdown",
   "id": "7c9717ec-f49f-4032-829a-a4e4de409a1c",
   "metadata": {},
   "source": [
    "# EfficientNet-v2-s\n",
    "\n",
    "\n",
    "## Importamos librerias"
   ]
  },
  {
   "cell_type": "code",
   "execution_count": 1,
   "id": "08482d97-ab40-4fee-b737-32261c038f2a",
   "metadata": {
    "tags": []
   },
   "outputs": [],
   "source": [
    "import time\n",
    "import copy\n",
    "import numpy as np\n",
    "import pandas as pd\n",
    "from typing import Tuple, Dict, List\n",
    "from collections import OrderedDict\n",
    "\n",
    "import torch\n",
    "import torch.nn as nn\n",
    "import torch.optim as optim\n",
    "from torch.optim import lr_scheduler\n",
    "import torch.backends.cudnn as cudnn\n",
    "import torch.nn.functional as F\n",
    "\n",
    "import torchvision\n",
    "from torchvision import datasets, models, transforms\n",
    "\n",
    "from torchinfo import summary"
   ]
  },
  {
   "attachments": {},
   "cell_type": "markdown",
   "id": "f4ba7d3c-0489-43ed-8987-1efd18782129",
   "metadata": {},
   "source": [
    "Definimos varios parámetros que vamos a utilizar a lo largo del cuaderno, por ejemplo el diccionario que vamos a utilizar para alamacenar los valores de precisión y perdida que se van generando durante el entrenamiento. La resolución de a la que vamos a ajutar las imágenes. El directorio donde se almacenan los datos. Etc."
   ]
  },
  {
   "cell_type": "code",
   "execution_count": 2,
   "id": "d726595d-d4b1-45a9-abf6-d1d599a57c17",
   "metadata": {},
   "outputs": [],
   "source": [
    "# Creamos un diccionario vacio para almacenar los resultados\n",
    "results = {'train_loss': [],\n",
    "        'train_acc': [],\n",
    "        'val_loss': [],\n",
    "        'val_acc': []\n",
    "    }\n",
    "cudnn.benchmark = True\n",
    "\n",
    "data_dir = './data'\n",
    "img_size = (224, 224)\n",
    "bs = 16\n",
    "mean = np.array([0.485, 0.456, 0.406])\n",
    "std = np.array([0.229, 0.224, 0.225])\n",
    "num_epochs = 25\n",
    "output_classes = 10000\n",
    "device = torch.device('cuda' if torch.cuda.is_available() else 'cpu')"
   ]
  },
  {
   "attachments": {},
   "cell_type": "markdown",
   "id": "3bcf312e-aee0-491d-b329-e63659e38cf2",
   "metadata": {},
   "source": [
    "## Definimos el parámetro transform\n",
    "\n",
    "Definimos las diferentes transformaciones que se van a aplicar previamente sobre los datos:\n",
    "\n",
    "* Redimensionamos todas las imágenes al mismo tamaño (224x224).\n",
    "* Aleatoriamente se aplica un giro horizontal de la imagen.\n",
    "* Rotamos la imagen 10 grados de forma aleatoria.\n",
    "* Los trasformaremos en tensores y normalizamos $\\frac{x-mean}{std}$ centrado en 0 y [-1, 1].\n",
    "\n",
    "Inicialmente, vamos a aplicar la misma transformación al conjunto de datos de entrenamiento que al conjunto de datos de validación. Pero hemos escrito el código de forma que se puedan aplicar diferentes transformaciones al conjunto de datos de entrenamiento que al conjunto de datos de validación."
   ]
  },
  {
   "cell_type": "code",
   "execution_count": 3,
   "id": "3fe96364-1e6b-4483-8b3f-1d265a3b3971",
   "metadata": {},
   "outputs": [],
   "source": [
    "data_transforms = {\n",
    "    'train': transforms.Compose([\n",
    "        transforms.Resize(img_size),\n",
    "        transforms.RandomHorizontalFlip(),\n",
    "        transforms.RandomRotation(degrees=10),\n",
    "        transforms.ToTensor(),\n",
    "        transforms.Normalize(mean, std)\n",
    "    ]),\n",
    "    'val': transforms.Compose([\n",
    "        transforms.Resize(img_size),\n",
    "        transforms.RandomHorizontalFlip(),\n",
    "        transforms.RandomRotation(degrees=10),\n",
    "        transforms.ToTensor(),\n",
    "        transforms.Normalize(mean, std)\n",
    "    ]),\n",
    "}"
   ]
  },
  {
   "attachments": {},
   "cell_type": "markdown",
   "id": "07414d2e-7bc1-4c9a-b6b1-396220714bf0",
   "metadata": {},
   "source": [
    "## Carga de datos\n",
    "\n",
    "Hemos decidido utilizar el conjunto de datos del iNat Challenge 2.021 para entrenar y validar nuestro modelo. Contiene imágenes de 10.000 especies diferentes. El conjunto de datos de entrenamiento mini formado por 500.000 imágenes, que contiene 50 imágenes de cada una de las especies catalogadas. El conjunto de datos de validación contiene para cada especie 10 imágenes, sumando un total de 100.000 imágenes.\n",
    "\n",
    "80% de los datos forman parte del conjunto de datos de entrenamiento y el 20% de los datos son el conjunto de validación."
   ]
  },
  {
   "cell_type": "code",
   "execution_count": 4,
   "id": "58102926-98f3-431f-9c21-86ab39dc4d23",
   "metadata": {},
   "outputs": [
    {
     "name": "stdout",
     "output_type": "stream",
     "text": [
      "Conjuntos de entrenamiento: {'train': 500000, 'val': 100000} clases: 10000\n"
     ]
    }
   ],
   "source": [
    "image_datasets = {\n",
    "    x: datasets.INaturalist(\n",
    "        root = data_dir,\n",
    "        version = '2021_train_mini' if x == 'train' else '2021_valid',\n",
    "        transform = data_transforms[x],\n",
    "        download = False\n",
    "    )\n",
    "    for x in ['train', 'val']\n",
    "}\n",
    "dataloaders = {\n",
    "    x: torch.utils.data.DataLoader(\n",
    "        image_datasets[x],\n",
    "        batch_size = bs,\n",
    "        shuffle = True,\n",
    "        num_workers = 4\n",
    "    )\n",
    "    for x in ['train', 'val']\n",
    "}\n",
    "dataset_sizes = {x: len(image_datasets[x]) for x in ['train', 'val']}\n",
    "inputs, classes = next(iter(dataloaders['train']))\n",
    "print(f'Conjuntos de entrenamiento: {dataset_sizes} clases: {output_classes}')"
   ]
  },
  {
   "attachments": {},
   "cell_type": "markdown",
   "id": "e689afb8-4901-4ce2-92a9-f3530b9683a6",
   "metadata": {},
   "source": [
    "## Función de entrenamiento\n",
    "\n",
    "Definimos la función que nos servirá para entrenar nuestra red neuronal. Esta función devuelve como resultado el modelo con los parámetros ajustados a la ejecucion del entrenamiento en el que obtivo un mayor porcentaje de acierto en la validación del modelo. "
   ]
  },
  {
   "cell_type": "code",
   "execution_count": 5,
   "id": "22993dd0-5e8f-4689-be79-67391b1ed47a",
   "metadata": {},
   "outputs": [],
   "source": [
    "def train_model(model, criterion, optimizer, scheduler, num_epochs=20):\n",
    "    since = time.time()\n",
    "\n",
    "    best_model_wts = copy.deepcopy(model.state_dict())\n",
    "    best_acc = 0.0\n",
    "\n",
    "    for epoch in range(num_epochs):\n",
    "        print(f'Entrenando etapa {epoch + 1} de {num_epochs} ...')\n",
    "        epoch_init = time.time()\n",
    "\n",
    "        # Cada iteración tiene una fase de validación y una fase de entrenamiento\n",
    "        for phase in ['train', 'val']:\n",
    "            if phase == 'train':\n",
    "                model.train()  # Establece el modelo en modo entrenamiento\n",
    "            else:\n",
    "                model.eval()   # Establece el modelo en modo validación\n",
    "\n",
    "            running_loss = 0.0\n",
    "            running_corrects = 0\n",
    "\n",
    "            # Itera sobre los datos\n",
    "            for inputs, labels in dataloaders[phase]:\n",
    "                inputs = inputs.to(device)\n",
    "                labels = labels.to(device)\n",
    "\n",
    "                # pone a cero los gradientes de los tensores optimizados\n",
    "                optimizer.zero_grad()\n",
    "\n",
    "                # track historial adelante solo en la fase de entrenamiento\n",
    "                with torch.set_grad_enabled(phase == 'train'):\n",
    "                    outputs = model(inputs)\n",
    "                    _, preds = torch.max(outputs, 1)\n",
    "                    loss = criterion(outputs, labels)\n",
    "\n",
    "                    # Solo si está en la fase de entrenamiento retroceder + optimizar\n",
    "                    if phase == 'train':\n",
    "                        loss.backward()\n",
    "                        optimizer.step()\n",
    "\n",
    "                # estatisticas\n",
    "                running_loss += loss.item() * inputs.size(0)\n",
    "                running_corrects += torch.sum(preds == labels.data)\n",
    "            if phase == 'train':\n",
    "                scheduler.step()\n",
    "\n",
    "            epoch_loss = running_loss / dataset_sizes[phase]\n",
    "            epoch_acc = running_corrects.double() / dataset_sizes[phase]\n",
    "\n",
    "            if phase == 'train':\n",
    "                results[\"train_loss\"].append(epoch_loss)\n",
    "                results[\"train_acc\"].append(epoch_acc.item())\n",
    "                print(f'Entrenamiento\\tPerdida: {epoch_loss:.4f}\\tPrecisión: {epoch_acc:.4f}')\n",
    "            else:\n",
    "                tittle = 'Validación'\n",
    "                results[\"val_loss\"].append(epoch_loss)\n",
    "                results[\"val_acc\"].append(epoch_acc.item())\n",
    "                print(f'Validación\\tPerdida: {epoch_loss:.4f}\\tPrecisión: {epoch_acc:.4f}'\n",
    "                      f'\\t{(time.time() - epoch_init)//60:.0f}min {(time.time() - epoch_init)%60:.0f}seg')\n",
    "            \n",
    "            # copia del modelo con mejor porcentaje de acierto en la validación\n",
    "            if phase == 'val' and epoch_acc > best_acc:\n",
    "                print('Guardando el modelo ...')\n",
    "                best_acc = epoch_acc\n",
    "                best_model_wts = copy.deepcopy(model.state_dict())\n",
    "\n",
    "        print()\n",
    "\n",
    "    time_elapsed = time.time() - since\n",
    "    if time_elapsed < 3600:\n",
    "        print(f'Entrenamiento completado en: {time_elapsed // 60:.0f}min. {time_elapsed % 60:.0f}seg.')\n",
    "    else:\n",
    "        rest_elapsed = time_elapsed % 3600\n",
    "        print(f'Entrenamiento completado en: {time_elapsed // 3600:.0f}horas {rest_elapsed // 60:.0f}min. {rest_elapsed % 60:.0f}seg.')\n",
    "    print(f'Mejor precisión validación: {best_acc:4f}')\n",
    "\n",
    "    # guarda los mejores pesos del modelo\n",
    "    model.load_state_dict(best_model_wts)\n",
    "    return model"
   ]
  },
  {
   "attachments": {},
   "cell_type": "markdown",
   "id": "6d7e8cdd-e50c-4096-8859-fd154ec6444a",
   "metadata": {},
   "source": [
    "## Cargando el modelo sin inicializar\n",
    "\n",
    "El modelo lo cargamos sin los pesos de preentrenamiento de ImageNet"
   ]
  },
  {
   "cell_type": "code",
   "execution_count": 6,
   "id": "ba0c8662-1d16-4926-b54e-afaee0207b1f",
   "metadata": {},
   "outputs": [
    {
     "data": {
      "text/plain": [
       "Sequential(\n",
       "  (0): Dropout(p=0.2, inplace=True)\n",
       "  (1): Linear(in_features=1280, out_features=1000, bias=True)\n",
       ")"
      ]
     },
     "execution_count": 6,
     "metadata": {},
     "output_type": "execute_result"
    }
   ],
   "source": [
    "model = models.efficientnet_v2_s(weights=None)\n",
    "model.classifier"
   ]
  },
  {
   "attachments": {},
   "cell_type": "markdown",
   "id": "ae642b2c-0b0b-4d15-96af-91d9de9398ac",
   "metadata": {},
   "source": [
    "## Modificamos el clasificador\n",
    "\n",
    "Adaptamos la última capa para que la salida coincida con el número de clases que tenemos a clasificar"
   ]
  },
  {
   "cell_type": "code",
   "execution_count": 7,
   "id": "e08a0912-882f-4694-bec7-74feee29385d",
   "metadata": {},
   "outputs": [],
   "source": [
    "num_ftrs = model.classifier[1].in_features\n",
    "\n",
    "classifier = nn.Sequential(OrderedDict([\n",
    "    ('0', nn.Dropout(p=0.4, inplace=True)),\n",
    "    ('1', nn.Linear(num_ftrs, output_classes))\n",
    "]))"
   ]
  },
  {
   "cell_type": "code",
   "execution_count": 8,
   "id": "4576cc0b-6e46-4675-86b0-fdd5c46aa4eb",
   "metadata": {},
   "outputs": [
    {
     "data": {
      "text/plain": [
       "Sequential(\n",
       "  (0): Dropout(p=0.4, inplace=True)\n",
       "  (1): Linear(in_features=1280, out_features=10000, bias=True)\n",
       ")"
      ]
     },
     "execution_count": 8,
     "metadata": {},
     "output_type": "execute_result"
    }
   ],
   "source": [
    "classifier"
   ]
  },
  {
   "cell_type": "code",
   "execution_count": 9,
   "id": "c72add95-c6be-4919-89c3-298e3e3ebb5c",
   "metadata": {},
   "outputs": [],
   "source": [
    "model.classifier = classifier\n",
    "\n",
    "model = model.to(device)\n",
    "\n",
    "criterion = nn.CrossEntropyLoss()\n",
    "\n",
    "# Se optimizan todos los parámetros\n",
    "optimizer = optim.SGD(model.parameters(), lr=0.001, momentum=0.9)\n",
    "\n",
    "# Se decrementa LR por un factor 0.1 cada 7 iteraciones\n",
    "exp_lr_scheduler = lr_scheduler.StepLR(optimizer, step_size=7, gamma=0.1)"
   ]
  },
  {
   "cell_type": "code",
   "execution_count": 10,
   "id": "544dc2f5-b4e4-4c36-85cd-5a97b4e86078",
   "metadata": {},
   "outputs": [
    {
     "data": {
      "text/plain": [
       "================================================================================\n",
       "Layer (type:depth-idx)                                  Param #\n",
       "================================================================================\n",
       "EfficientNet                                            --\n",
       "├─Sequential: 1-1                                       --\n",
       "│    └─Conv2dNormActivation: 2-1                        --\n",
       "│    │    └─Conv2d: 3-1                                 648\n",
       "│    │    └─BatchNorm2d: 3-2                            48\n",
       "│    │    └─SiLU: 3-3                                   --\n",
       "│    └─Sequential: 2-2                                  --\n",
       "│    │    └─FusedMBConv: 3-4                            5,232\n",
       "│    │    └─FusedMBConv: 3-5                            5,232\n",
       "│    └─Sequential: 2-3                                  --\n",
       "│    │    └─FusedMBConv: 3-6                            25,632\n",
       "│    │    └─FusedMBConv: 3-7                            92,640\n",
       "│    │    └─FusedMBConv: 3-8                            92,640\n",
       "│    │    └─FusedMBConv: 3-9                            92,640\n",
       "│    └─Sequential: 2-4                                  --\n",
       "│    │    └─FusedMBConv: 3-10                           95,744\n",
       "│    │    └─FusedMBConv: 3-11                           164,480\n",
       "│    │    └─FusedMBConv: 3-12                           164,480\n",
       "│    │    └─FusedMBConv: 3-13                           164,480\n",
       "│    └─Sequential: 2-5                                  --\n",
       "│    │    └─MBConv: 3-14                                61,200\n",
       "│    │    └─MBConv: 3-15                                171,296\n",
       "│    │    └─MBConv: 3-16                                171,296\n",
       "│    │    └─MBConv: 3-17                                171,296\n",
       "│    │    └─MBConv: 3-18                                171,296\n",
       "│    │    └─MBConv: 3-19                                171,296\n",
       "│    └─Sequential: 2-6                                  --\n",
       "│    │    └─MBConv: 3-20                                281,440\n",
       "│    │    └─MBConv: 3-21                                397,800\n",
       "│    │    └─MBConv: 3-22                                397,800\n",
       "│    │    └─MBConv: 3-23                                397,800\n",
       "│    │    └─MBConv: 3-24                                397,800\n",
       "│    │    └─MBConv: 3-25                                397,800\n",
       "│    │    └─MBConv: 3-26                                397,800\n",
       "│    │    └─MBConv: 3-27                                397,800\n",
       "│    │    └─MBConv: 3-28                                397,800\n",
       "│    └─Sequential: 2-7                                  --\n",
       "│    │    └─MBConv: 3-29                                490,152\n",
       "│    │    └─MBConv: 3-30                                1,005,120\n",
       "│    │    └─MBConv: 3-31                                1,005,120\n",
       "│    │    └─MBConv: 3-32                                1,005,120\n",
       "│    │    └─MBConv: 3-33                                1,005,120\n",
       "│    │    └─MBConv: 3-34                                1,005,120\n",
       "│    │    └─MBConv: 3-35                                1,005,120\n",
       "│    │    └─MBConv: 3-36                                1,005,120\n",
       "│    │    └─MBConv: 3-37                                1,005,120\n",
       "│    │    └─MBConv: 3-38                                1,005,120\n",
       "│    │    └─MBConv: 3-39                                1,005,120\n",
       "│    │    └─MBConv: 3-40                                1,005,120\n",
       "│    │    └─MBConv: 3-41                                1,005,120\n",
       "│    │    └─MBConv: 3-42                                1,005,120\n",
       "│    │    └─MBConv: 3-43                                1,005,120\n",
       "│    └─Conv2dNormActivation: 2-8                        --\n",
       "│    │    └─Conv2d: 3-44                                327,680\n",
       "│    │    └─BatchNorm2d: 3-45                           2,560\n",
       "│    │    └─SiLU: 3-46                                  --\n",
       "├─AdaptiveAvgPool2d: 1-2                                --\n",
       "├─Sequential: 1-3                                       --\n",
       "│    └─Dropout: 2-9                                     --\n",
       "│    └─Linear: 2-10                                     12,810,000\n",
       "================================================================================\n",
       "Total params: 32,987,488\n",
       "Trainable params: 32,987,488\n",
       "Non-trainable params: 0\n",
       "================================================================================"
      ]
     },
     "execution_count": 10,
     "metadata": {},
     "output_type": "execute_result"
    }
   ],
   "source": [
    "summary(model)"
   ]
  },
  {
   "attachments": {},
   "cell_type": "markdown",
   "id": "493f268c-478c-4352-92fe-697e24ea9f37",
   "metadata": {},
   "source": [
    "## Entrenamos el modelo"
   ]
  },
  {
   "cell_type": "code",
   "execution_count": 11,
   "id": "a0e4b7b4-1bd9-4f80-b11e-10e1d6f31061",
   "metadata": {},
   "outputs": [
    {
     "name": "stdout",
     "output_type": "stream",
     "text": [
      "Entrenando etapa 1 de 25 ...\n",
      "Entrenamiento\tPerdida: 9.0436\tPrecisión: 0.0002\n",
      "Validación\tPerdida: 8.7871\tPrecisión: 0.0006\t72min 38seg\n",
      "Guardando el modelo ...\n",
      "\n",
      "Entrenando etapa 2 de 25 ...\n",
      "Entrenamiento\tPerdida: 8.5349\tPrecisión: 0.0010\n",
      "Validación\tPerdida: 8.0549\tPrecisión: 0.0023\t73min 10seg\n",
      "Guardando el modelo ...\n",
      "\n",
      "Entrenando etapa 3 de 25 ...\n",
      "Entrenamiento\tPerdida: 7.9771\tPrecisión: 0.0032\n",
      "Validación\tPerdida: 7.4780\tPrecisión: 0.0082\t76min 30seg\n",
      "Guardando el modelo ...\n",
      "\n",
      "Entrenando etapa 4 de 25 ...\n",
      "Entrenamiento\tPerdida: 7.4736\tPrecisión: 0.0077\n",
      "Validación\tPerdida: 6.9315\tPrecisión: 0.0177\t72min 44seg\n",
      "Guardando el modelo ...\n",
      "\n",
      "Entrenando etapa 5 de 25 ...\n",
      "Entrenamiento\tPerdida: 7.0157\tPrecisión: 0.0157\n",
      "Validación\tPerdida: 6.4726\tPrecisión: 0.0316\t68min 50seg\n",
      "Guardando el modelo ...\n",
      "\n",
      "Entrenando etapa 6 de 25 ...\n",
      "Entrenamiento\tPerdida: 6.6021\tPrecisión: 0.0268\n",
      "Validación\tPerdida: 6.0611\tPrecisión: 0.0511\t68min 9seg\n",
      "Guardando el modelo ...\n",
      "\n",
      "Entrenando etapa 7 de 25 ...\n",
      "Entrenamiento\tPerdida: 6.2344\tPrecisión: 0.0418\n",
      "Validación\tPerdida: 5.7212\tPrecisión: 0.0720\t68min 26seg\n",
      "Guardando el modelo ...\n",
      "\n",
      "Entrenando etapa 8 de 25 ...\n",
      "Entrenamiento\tPerdida: 5.7669\tPrecisión: 0.0715\n",
      "Validación\tPerdida: 5.4039\tPrecisión: 0.1057\t68min 3seg\n",
      "Guardando el modelo ...\n",
      "\n",
      "Entrenando etapa 9 de 25 ...\n",
      "Entrenamiento\tPerdida: 5.6657\tPrecisión: 0.0795\n",
      "Validación\tPerdida: 5.3604\tPrecisión: 0.1104\t68min 0seg\n",
      "Guardando el modelo ...\n",
      "\n",
      "Entrenando etapa 10 de 25 ...\n",
      "Entrenamiento\tPerdida: 5.6043\tPrecisión: 0.0835\n",
      "Validación\tPerdida: 5.2923\tPrecisión: 0.1169\t68min 0seg\n",
      "Guardando el modelo ...\n",
      "\n",
      "Entrenando etapa 11 de 25 ...\n",
      "Entrenamiento\tPerdida: 5.5485\tPrecisión: 0.0878\n",
      "Validación\tPerdida: 5.2389\tPrecisión: 0.1193\t68min 1seg\n",
      "Guardando el modelo ...\n",
      "\n",
      "Entrenando etapa 12 de 25 ...\n",
      "Entrenamiento\tPerdida: 5.4958\tPrecisión: 0.0916\n",
      "Validación\tPerdida: 5.1967\tPrecisión: 0.1232\t68min 18seg\n",
      "Guardando el modelo ...\n",
      "\n",
      "Entrenando etapa 13 de 25 ...\n",
      "Entrenamiento\tPerdida: 5.4442\tPrecisión: 0.0957\n",
      "Validación\tPerdida: 5.1628\tPrecisión: 0.1264\t70min 25seg\n",
      "Guardando el modelo ...\n",
      "\n",
      "Entrenando etapa 14 de 25 ...\n",
      "Entrenamiento\tPerdida: 5.3945\tPrecisión: 0.0991\n",
      "Validación\tPerdida: 5.1059\tPrecisión: 0.1315\t74min 20seg\n",
      "Guardando el modelo ...\n",
      "\n",
      "Entrenando etapa 15 de 25 ...\n",
      "Entrenamiento\tPerdida: 5.3212\tPrecisión: 0.1061\n",
      "Validación\tPerdida: 5.0614\tPrecisión: 0.1364\t73min 4seg\n",
      "Guardando el modelo ...\n",
      "\n",
      "Entrenando etapa 16 de 25 ...\n",
      "Entrenamiento\tPerdida: 5.3128\tPrecisión: 0.1063\n",
      "Validación\tPerdida: 5.0618\tPrecisión: 0.1362\t71min 3seg\n",
      "\n",
      "Entrenando etapa 17 de 25 ...\n",
      "Entrenamiento\tPerdida: 5.3059\tPrecisión: 0.1077\n",
      "Validación\tPerdida: 5.0519\tPrecisión: 0.1370\t70min 31seg\n",
      "Guardando el modelo ...\n",
      "\n",
      "Entrenando etapa 18 de 25 ...\n",
      "Entrenamiento\tPerdida: 5.2980\tPrecisión: 0.1084\n",
      "Validación\tPerdida: 5.0505\tPrecisión: 0.1373\t72min 43seg\n",
      "Guardando el modelo ...\n",
      "\n",
      "Entrenando etapa 19 de 25 ...\n",
      "Entrenamiento\tPerdida: 5.2930\tPrecisión: 0.1089\n",
      "Validación\tPerdida: 5.0508\tPrecisión: 0.1368\t73min 1seg\n",
      "\n",
      "Entrenando etapa 20 de 25 ...\n",
      "Entrenamiento\tPerdida: 5.2856\tPrecisión: 0.1098\n",
      "Validación\tPerdida: 5.0292\tPrecisión: 0.1388\t69min 30seg\n",
      "Guardando el modelo ...\n",
      "\n",
      "Entrenando etapa 21 de 25 ...\n",
      "Entrenamiento\tPerdida: 5.2776\tPrecisión: 0.1108\n",
      "Validación\tPerdida: 5.0274\tPrecisión: 0.1399\t70min 5seg\n",
      "Guardando el modelo ...\n",
      "\n",
      "Entrenando etapa 22 de 25 ...\n",
      "Entrenamiento\tPerdida: 5.2702\tPrecisión: 0.1111\n",
      "Validación\tPerdida: 5.0276\tPrecisión: 0.1391\t68min 15seg\n",
      "\n",
      "Entrenando etapa 23 de 25 ...\n",
      "Entrenamiento\tPerdida: 5.2672\tPrecisión: 0.1111\n",
      "Validación\tPerdida: 5.0209\tPrecisión: 0.1392\t67min 38seg\n",
      "\n",
      "Entrenando etapa 24 de 25 ...\n",
      "Entrenamiento\tPerdida: 5.2686\tPrecisión: 0.1109\n",
      "Validación\tPerdida: 5.0356\tPrecisión: 0.1395\t67min 53seg\n",
      "\n",
      "Entrenando etapa 25 de 25 ...\n",
      "Entrenamiento\tPerdida: 5.2703\tPrecisión: 0.1105\n",
      "Validación\tPerdida: 5.0316\tPrecisión: 0.1387\t72min 28seg\n",
      "\n",
      "Entrenamiento completado en: 29horas 21min. 51seg.\n",
      "Mejor precisión validación: 0.139870\n"
     ]
    }
   ],
   "source": [
    "model = train_model(model, criterion, optimizer, exp_lr_scheduler, num_epochs)"
   ]
  },
  {
   "attachments": {},
   "cell_type": "markdown",
   "id": "0933e5aa-6d91-4121-8280-cd01b52a3de4",
   "metadata": {},
   "source": [
    "## Exportamos los resultados a un CSV\n",
    "\n",
    "Exportamos los resultados del entrenamiento a un fichero csv, separado por tabuladores"
   ]
  },
  {
   "cell_type": "code",
   "execution_count": 13,
   "id": "3ac5f4b0",
   "metadata": {},
   "outputs": [],
   "source": [
    "df_results = pd.DataFrame(results)\n",
    "df_results.to_csv('EfficientNetV2s_results.txt', sep='\\t', index=False)"
   ]
  },
  {
   "attachments": {},
   "cell_type": "markdown",
   "id": "3b2eabcf-30ed-4720-8f46-2b67bea98485",
   "metadata": {},
   "source": [
    "## Gráfica pérdida y precisión"
   ]
  },
  {
   "cell_type": "code",
   "execution_count": 14,
   "id": "83d23582",
   "metadata": {},
   "outputs": [],
   "source": [
    "import matplotlib.pyplot as plt\n",
    "def plot_curves(results: Dict[str, List[float]]):\n",
    "    \n",
    "    # Recuperamos los valores de pérdida de entrenamiento y validación\n",
    "    loss = results['train_loss']\n",
    "    test_loss = results['val_loss']\n",
    "\n",
    "    # Recuperamos los valores de precisión de entrenamiento y validación\n",
    "    accuracy = results['train_acc']\n",
    "    test_accuracy = results['val_acc']\n",
    "\n",
    "    # Número de iteraciones que tenemos\n",
    "    epochs = range(len(results['train_loss']))\n",
    "\n",
    "    # Definimos el gráfico\n",
    "    plt.figure(figsize=(15, 7))\n",
    "\n",
    "    # Pérdida\n",
    "    plt.subplot(1, 2, 1)\n",
    "    plt.plot(epochs, loss, label='Pérdida entrenamiento')\n",
    "    plt.plot(epochs, test_loss, label='Pérdida validacion')\n",
    "    plt.ylabel('Pérdida')\n",
    "    plt.xlabel('Iteraciones')\n",
    "    plt.legend()\n",
    "\n",
    "    # Precisión\n",
    "    plt.subplot(1, 2, 2)\n",
    "    plt.plot(epochs, accuracy, label='Precisión entrenamiento')\n",
    "    plt.plot(epochs, test_accuracy, label='Precisión validación')\n",
    "    plt.ylabel('Precisión')\n",
    "    plt.xlabel('Iteraciones')\n",
    "    plt.legend();"
   ]
  },
  {
   "cell_type": "code",
   "execution_count": 16,
   "id": "85d6efdf",
   "metadata": {},
   "outputs": [
    {
     "data": {
      "image/png": "[encoded data removed]",
      "text/plain": [
       "<Figure size 1500x700 with 2 Axes>"
      ]
     },
     "metadata": {},
     "output_type": "display_data"
    }
   ],
   "source": [
    "plot_curves(results)"
   ]
  }
 ],
 "metadata": {
  "kernelspec": {
   "display_name": "Python 3 (ipykernel)",
   "language": "python",
   "name": "python3"
  },
  "language_info": {
   "codemirror_mode": {
    "name": "ipython",
    "version": 3
   },
   "file_extension": ".py",
   "mimetype": "text/x-python",
   "name": "python",
   "nbconvert_exporter": "python",
   "pygments_lexer": "ipython3",
   "version": "3.11.1"
  }
 },
 "nbformat": 4,
 "nbformat_minor": 5
}

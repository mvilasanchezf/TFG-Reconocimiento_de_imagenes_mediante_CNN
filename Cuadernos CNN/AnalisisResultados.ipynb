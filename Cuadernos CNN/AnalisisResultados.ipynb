{
 "cells": [
  {
   "cell_type": "markdown",
   "id": "4894f4bb-f693-4c04-86d0-dda733f11b8f",
   "metadata": {},
   "source": [
    "# Análisis de los resultados\n",
    "\n",
    "En este cuaderno realizaremos el análisis del resultado del entrenamiento de los diferentes modelos estudiados en el trabajo de fin de grado.\n",
    "\n",
    "## Importamos librerias"
   ]
  },
  {
   "cell_type": "code",
   "execution_count": null,
   "id": "6970c380-32dd-4ea8-b116-e429513cc0d5",
   "metadata": {},
   "outputs": [],
   "source": [
    "import pandas as pd\n",
    "import numpy as np\n",
    "import matplotlib.pyplot as plt\n",
    "\n",
    "plt.ion()   # modo interactivo"
   ]
  },
  {
   "cell_type": "markdown",
   "id": "490b9727-2594-47f2-b02a-30abf4c4dee8",
   "metadata": {},
   "source": [
    "## Función que muestra las curvas de perdida y precisión\n",
    "\n",
    "Recupera los datos de un dataframe y visualiza dos gráficas:\n",
    "* La primera de ellas es la pérdida tanto del entrenamineto como de la validación\n",
    "* La segunda es la precisión del entrenamiento y la validación."
   ]
  },
  {
   "cell_type": "code",
   "execution_count": null,
   "id": "05ce3ba8-d1b2-4e46-951b-bc1a2154dedb",
   "metadata": {},
   "outputs": [],
   "source": [
    "def plot_curves(results):\n",
    "    \n",
    "    # Recuperamos los valores de pérdida de entrenamiento y validación\n",
    "    train_loss = results['train_loss']\n",
    "    valid_loss = results['val_loss']\n",
    "\n",
    "    # Recuperamos los valores de precisión de entrenamiento y validación\n",
    "    train_accuracy = results['train_acc']\n",
    "    valid_accuracy = results['val_acc']\n",
    "\n",
    "    # Número de iteraciones que tenemos\n",
    "    epochs = range(len(results['train_loss']))\n",
    "\n",
    "    # Definimos el gráfico\n",
    "    plt.figure(figsize=(15, 7))\n",
    "\n",
    "    # Pérdida\n",
    "    plt.subplot(1, 2, 1)\n",
    "    plt.plot(epochs, train_loss, label='Pérdida entrenamiento', color='#767171', linewidth=2)\n",
    "    plt.plot(epochs, valid_loss, label='Pérdida validacion', color='#C2002F', linewidth=2)\n",
    "    plt.ylabel('Pérdida')\n",
    "    plt.xlabel('Etapas')\n",
    "    plt.xlim(0,20)\n",
    "    plt.xticks(np.arange(0, 20, 2))\n",
    "    plt.legend()\n",
    "\n",
    "    # Precisión\n",
    "    plt.subplot(1, 2, 2)\n",
    "    plt.plot(epochs, train_accuracy, label='Precisión entrenamiento', color='#767171', linewidth=2)\n",
    "    plt.plot(epochs, valid_accuracy, label='Precisión validación', color='#C2002F', linewidth=2)\n",
    "    plt.ylabel('Precisión')\n",
    "    plt.xlabel('Etapas')\n",
    "    plt.xlim(0,20)\n",
    "    plt.xticks(np.arange(0, 20, 2))\n",
    "    plt.legend();"
   ]
  },
  {
   "cell_type": "markdown",
   "id": "d245f824-df02-4c2b-8e0a-4d6a43d654e5",
   "metadata": {},
   "source": [
    "### primer modelo analizado AlexNet"
   ]
  },
  {
   "cell_type": "code",
   "execution_count": null,
   "id": "d4687a97-2317-451e-84e3-c61c962976c4",
   "metadata": {},
   "outputs": [],
   "source": [
    "df_AlexNet = pd.read_csv('AlexNetNONE_results.txt', sep='\\t')\n",
    "df_AlexNet.shape"
   ]
  },
  {
   "cell_type": "code",
   "execution_count": null,
   "id": "5286891c-cf3e-4d2d-8109-0a89e9f9dc8e",
   "metadata": {
    "tags": []
   },
   "outputs": [],
   "source": [
    "plot_curves(df_AlexNet)"
   ]
  },
  {
   "cell_type": "code",
   "execution_count": null,
   "id": "80e3bd1f-0baa-4477-8f50-ee43011785ce",
   "metadata": {},
   "outputs": [],
   "source": [
    "df_AlexNet2 = pd.read_csv('resultsAlexNet.txt', sep='\\t')\n",
    "df_AlexNet2.shape"
   ]
  },
  {
   "cell_type": "code",
   "execution_count": null,
   "id": "e741bc84-03a2-47e2-a922-3fd806c92b9b",
   "metadata": {
    "tags": []
   },
   "outputs": [],
   "source": [
    "plot_curves(df_AlexNet2)"
   ]
  },
  {
   "cell_type": "code",
   "execution_count": null,
   "id": "d8e946d7-5ddc-47a7-a9a5-527c687bb6e7",
   "metadata": {},
   "outputs": [],
   "source": [
    "print(f'% precisión validación (sin inicializar): {100*df_AlexNet.val_acc.max():.2f}\\n'\n",
    "      f'% precisión validación (preentrenado): {100*df_AlexNet2.val_acc.max():.2f}')"
   ]
  },
  {
   "cell_type": "code",
   "execution_count": null,
   "id": "d202b54d-11a0-4d8b-a9eb-d8f145ea8fc4",
   "metadata": {
    "tags": []
   },
   "outputs": [],
   "source": [
    "# Definimos el gráfico\n",
    "plt.figure(figsize=(8, 7))\n",
    "\n",
    "plt.plot(range(20), df_AlexNet['val_acc'][0:20], label='Sin inicializar', color='#767171', linewidth=2)\n",
    "plt.plot(range(20), df_AlexNet2['val_acc'], label='Preentrenado', color='#C2002F', linewidth=2)\n",
    "plt.ylabel('Precisión')\n",
    "plt.xlabel('Etapas')\n",
    "plt.xlim(0,20)\n",
    "plt.xticks(np.arange(0, 20, 2))\n",
    "plt.legend()"
   ]
  },
  {
   "cell_type": "code",
   "execution_count": null,
   "id": "3ee6e3d7-ee67-4e43-88ae-ea5fba520342",
   "metadata": {},
   "outputs": [],
   "source": [
    "df_EfficientNetB0 = pd.read_csv('EficientNetB0_resultsNone.txt', sep='\\t')\n",
    "df_EfficientNetB0.shape"
   ]
  },
  {
   "cell_type": "code",
   "execution_count": null,
   "id": "b322017d-95ec-4282-be4f-651a95e53d41",
   "metadata": {
    "tags": []
   },
   "outputs": [],
   "source": [
    "plot_curves(df_EfficientNetB0)"
   ]
  },
  {
   "cell_type": "code",
   "execution_count": null,
   "id": "e5882e54-6a89-465d-a264-0c547aba98b6",
   "metadata": {
    "tags": []
   },
   "outputs": [],
   "source": [
    "df_EfficientNetB0_2 = pd.read_csv('EficientNetB0_resultsPre.txt', sep='\\t')\n",
    "plot_curves(df_EfficientNetB0_2)"
   ]
  },
  {
   "cell_type": "code",
   "execution_count": null,
   "id": "6c79982c-aff7-433e-9ba8-dd3da3395ca3",
   "metadata": {
    "tags": []
   },
   "outputs": [],
   "source": [
    "df_EfficientNetB0_3 = pd.read_csv('EficientNetB0_resultsFree.txt', sep='\\t')\n",
    "plot_curves(df_EfficientNetB0_3)"
   ]
  },
  {
   "cell_type": "code",
   "execution_count": null,
   "id": "683b1da8-fc80-4178-91a8-59760b228a26",
   "metadata": {},
   "outputs": [],
   "source": [
    "print(f'% precisión validación (sin inicializar): {100*df_EfficientNetB0.val_acc.max():.2f}\\n'\n",
    "      f'% precisión validación (preentrenado): {100*df_EfficientNetB0_2.val_acc.max():.2f}\\n'\n",
    "     f'% precisión validación (preentrenado, entrenando clasificador): {100*df_EfficientNetB0_3.val_acc.max():.2f}')"
   ]
  },
  {
   "cell_type": "code",
   "execution_count": null,
   "id": "fa81ff10-11a6-4304-bb7e-6fd65ba7c951",
   "metadata": {},
   "outputs": [],
   "source": [
    "df_EfficientNetB0_2[df_EfficientNetB0_2.val_acc == df_EfficientNetB0_2.val_acc.max()]"
   ]
  },
  {
   "cell_type": "code",
   "execution_count": null,
   "id": "6be9f201-7d92-4895-960c-d0b711a99d6d",
   "metadata": {
    "tags": []
   },
   "outputs": [],
   "source": [
    "# Definimos el gráfico\n",
    "plt.figure(figsize=(8, 7))\n",
    "\n",
    "plt.plot(range(20), df_EfficientNetB0['val_acc'][0:20], label='Sin inicializar', color='#767171', linewidth=2)\n",
    "plt.plot(range(20), df_EfficientNetB0_2['val_acc'], label='Preentrenado', color='black', linewidth=2)\n",
    "plt.plot(range(20), df_EfficientNetB0_3['val_acc'][0:20], label='Entrenando clasificador', color='#C2002F', linewidth=2)\n",
    "plt.ylabel('Precisión')\n",
    "plt.xlabel('Etapas')\n",
    "plt.xlim(0,20)\n",
    "plt.xticks(np.arange(0, 20, 2))\n",
    "plt.legend()"
   ]
  },
  {
   "cell_type": "code",
   "execution_count": null,
   "id": "24ebb84e-0785-43ff-bf4f-8c70f8657694",
   "metadata": {},
   "outputs": [],
   "source": [
    "df_EfficientNetB0[df_EfficientNetB0.val_acc == df_EfficientNetB0.val_acc.max()]"
   ]
  },
  {
   "cell_type": "code",
   "execution_count": null,
   "id": "94199b13-96b1-4b04-ad0a-f80be39f15e5",
   "metadata": {},
   "outputs": [],
   "source": [
    "df_EfficientNetB0_3[df_EfficientNetB0_3.val_acc == df_EfficientNetB0_3.val_acc.max()]"
   ]
  },
  {
   "cell_type": "code",
   "execution_count": null,
   "id": "9f875118-80ef-43aa-8d2c-b67aaca3fc69",
   "metadata": {
    "tags": []
   },
   "outputs": [],
   "source": [
    "df_EfficientNetB3 = pd.read_csv('resultsEfficientNetB3.txt', sep='\\t')\n",
    "plot_curves(df_EfficientNetB3)\n",
    "print(df_EfficientNetB3[df_EfficientNetB3.val_acc == df_EfficientNetB3.val_acc.max()])"
   ]
  },
  {
   "cell_type": "code",
   "execution_count": null,
   "id": "93aba241-bff3-4d0b-b221-1bc11fd2233e",
   "metadata": {
    "tags": []
   },
   "outputs": [],
   "source": [
    "df_EfficientNetv2 = pd.read_csv('EfficientNetV2s_results_Preen.txt', sep='\\t')\n",
    "plot_curves(df_EfficientNetv2)\n",
    "print(df_EfficientNetv2[df_EfficientNetv2.val_acc == df_EfficientNetv2.val_acc.max()])"
   ]
  },
  {
   "cell_type": "code",
   "execution_count": null,
   "id": "3f1ec863-8a19-4f51-9baa-aa00c0b1242f",
   "metadata": {},
   "outputs": [],
   "source": [
    "df_ResNet = pd.read_csv('resultsRestnetV2.txt', sep='\\t')"
   ]
  },
  {
   "cell_type": "code",
   "execution_count": null,
   "id": "7d90bc4b-6238-4c5d-bbee-3c6142367b72",
   "metadata": {},
   "outputs": [],
   "source": [
    "plt.figure(figsize=(18, 8))\n",
    "\n",
    "plt.subplot(1,2,1)\n",
    "# plt.plot(range(20), df_ResNet['train_loss'], color='#767171', dashes=[5, 4], linewidth=2)\n",
    "plt.plot(range(20), df_ResNet['val_loss'], label='ResNet-151', color='#767171', linewidth=2)\n",
    "# plt.plot(range(20), df_EfficientNetB3['train_loss'][0:20], color='#BABABA', dashes=[5, 4], linewidth=2)\n",
    "plt.plot(range(20), df_EfficientNetB3['val_loss'][0:20], label='EfficientNet B3', color='#BABABA', linewidth=2)\n",
    "# plt.plot(range(20), df_EfficientNetv2['train_loss'][0:20], color='#C2002F', dashes=[5, 4], linewidth=2)\n",
    "plt.plot(range(20), df_EfficientNetv2['val_loss'][0:20], label='EfficientNet v2 Small', color='#C2002F', linewidth=2)\n",
    "plt.title('Pérdida', fontsize=20)\n",
    "plt.xlabel('Etapas')\n",
    "plt.xlim(0,20)\n",
    "plt.xticks(np.arange(0, 20, 2))\n",
    "plt.legend()\n",
    "plt.subplot(1,2,2)\n",
    "plt.plot(range(20), df_ResNet['train_acc'], color='#767171', dashes=[5, 4], linewidth=2)\n",
    "plt.plot(range(20), df_ResNet['val_acc'], label='ResNet-151', color='#767171', linewidth=2)\n",
    "plt.plot(range(20), df_EfficientNetB3['train_acc'][0:20], color='#BABABA', dashes=[5, 4], linewidth=2)\n",
    "plt.plot(range(20), df_EfficientNetB3['val_acc'][0:20], label='EfficientNet B3', color='#BABABA', linewidth=2)\n",
    "plt.plot(range(20), df_EfficientNetv2['train_acc'][0:20], color='#C2002F', dashes=[5, 4], linewidth=2)\n",
    "plt.plot(range(20), df_EfficientNetv2['val_acc'][0:20], label='EfficientNet v2 Small', color='#C2002F', linewidth=2)\n",
    "plt.title('Precisión', fontsize=20)\n",
    "plt.xlabel('Etapas')\n",
    "plt.xlim(0,20)\n",
    "plt.xticks(np.arange(0, 20, 2))\n",
    "plt.legend()"
   ]
  },
  {
   "cell_type": "code",
   "execution_count": null,
   "id": "5ffe549a-cf38-419e-a3b3-be000b46921e",
   "metadata": {},
   "outputs": [],
   "source": [
    "print(f'Resnet-50\\t\\tPérdida: {df_ResNet.val_loss.min():.4f}\\tPrecisión: {100*df_ResNet.val_acc.max():.2f}%\\n'\n",
    "     f'EfficientNet B3\\t\\tPérdida: {df_EfficientNetB3.val_loss.min():.4f}\\tPrecisión: {100*df_EfficientNetB3.val_acc.max():.2f}%\\n'\n",
    "     f'EfficientNet v2 Small\\tPérdida: {df_EfficientNetv2.val_loss.min():.4f}\\tPrecisión: {100*df_EfficientNetv2.val_acc.max():.2f}%\\n')"
   ]
  },
  {
   "cell_type": "code",
   "execution_count": null,
   "id": "a68803fa-7249-46c6-8bc4-4c10e0162ece",
   "metadata": {},
   "outputs": [],
   "source": [
    "df_ResNet = pd.read_csv('resultsRestnetV2.txt', sep='\\t')\n",
    "df_EfficientNetB3 = pd.read_csv('resultsEfficientNetB3.txt', sep='\\t')\n",
    "df_EfficientNetv2 = pd.read_csv('EfficientNetV2s_results_Preen.txt', sep='\\t')"
   ]
  },
  {
   "cell_type": "code",
   "execution_count": null,
   "id": "efd48055-9714-4098-9736-7addd8c4520d",
   "metadata": {},
   "outputs": [],
   "source": [
    "print(f'Resnet-50\\t\\tPérdida: {df_ResNet.train_loss.min():.4f}\\tPrecisión: {100*df_ResNet.train_acc.max():.2f}%\\n'\n",
    "     f'EfficientNet B3\\t\\tPérdida: {df_EfficientNetB3.train_loss.min():.4f}\\tPrecisión: {100*df_EfficientNetB3.train_acc.max():.2f}%\\n'\n",
    "     f'EfficientNet v2 Small\\tPérdida: {df_EfficientNetv2.train_loss.min():.4f}\\tPrecisión: {100*df_EfficientNetv2.train_acc.max():.2f}%\\n')"
   ]
  },
  {
   "cell_type": "code",
   "execution_count": null,
   "id": "1dd935ee-80e6-4500-aa0f-320243aa4e34",
   "metadata": {},
   "outputs": [],
   "source": []
  }
 ],
 "metadata": {
  "kernelspec": {
   "display_name": "Python 3 (ipykernel)",
   "language": "python",
   "name": "python3"
  },
  "language_info": {
   "codemirror_mode": {
    "name": "ipython",
    "version": 3
   },
   "file_extension": ".py",
   "mimetype": "text/x-python",
   "name": "python",
   "nbconvert_exporter": "python",
   "pygments_lexer": "ipython3",
   "version": "3.9.13"
  }
 },
 "nbformat": 4,
 "nbformat_minor": 5
}

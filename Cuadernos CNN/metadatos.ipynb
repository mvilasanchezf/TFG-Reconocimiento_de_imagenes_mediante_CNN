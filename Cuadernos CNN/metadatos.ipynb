{
 "cells": [
  {
   "cell_type": "markdown",
   "id": "503d5758-159a-4f3f-a506-1d73dc2da2f4",
   "metadata": {},
   "source": [
    "# Tratamiento del fichero de metadatos"
   ]
  },
  {
   "cell_type": "code",
   "execution_count": 1,
   "id": "336fdf4e-7fca-4476-9f18-7cd554067924",
   "metadata": {},
   "outputs": [],
   "source": [
    "import pandas as pd\n",
    "import json"
   ]
  },
  {
   "cell_type": "markdown",
   "id": "78764f95-4a0b-4886-9477-eec599e2e2a1",
   "metadata": {},
   "source": [
    "## Fichero json del conjunto de entrenamiento\n",
    "\n",
    "* Leemos el fichero json del conjunto de entrenamiento. Mostramos las claves del diccionario\n",
    "* Llevamos el contenido de **'categories'** a un dataframe\n",
    "* Seleccionamos las columnas que nos interesan:\n",
    "    * common_name (nombre común)\n",
    "    * kingdom (reino)\n",
    "    * phylum (filo)\n",
    "    * class (clase)\n",
    "    * order (orden)\n",
    "    * family (familia)\n",
    "    * genus (género)\n",
    "    * specific epithet (especie)"
   ]
  },
  {
   "cell_type": "code",
   "execution_count": 2,
   "id": "bfb2dcdd-aa2a-4941-a107-b6f25bb07990",
   "metadata": {},
   "outputs": [
    {
     "data": {
      "text/plain": [
       "dict_keys(['info', 'images', 'categories', 'annotations', 'licenses'])"
      ]
     },
     "execution_count": 2,
     "metadata": {},
     "output_type": "execute_result"
    }
   ],
   "source": [
    "with open('./data/train_mini.json') as data_file:\n",
    "    data = json.load(data_file)\n",
    "\n",
    "data.keys()"
   ]
  },
  {
   "cell_type": "code",
   "execution_count": 3,
   "id": "a0d00beb-89d4-4ef7-8b84-8cb48b5ca7dc",
   "metadata": {},
   "outputs": [
    {
     "data": {
      "text/plain": [
       "id                   int64\n",
       "name                object\n",
       "common_name         object\n",
       "supercategory       object\n",
       "kingdom             object\n",
       "phylum              object\n",
       "class               object\n",
       "order               object\n",
       "family              object\n",
       "genus               object\n",
       "specific_epithet    object\n",
       "image_dir_name      object\n",
       "dtype: object"
      ]
     },
     "execution_count": 3,
     "metadata": {},
     "output_type": "execute_result"
    }
   ],
   "source": [
    "df = pd.json_normalize(data['categories'])\n",
    "df.dtypes"
   ]
  },
  {
   "cell_type": "code",
   "execution_count": 4,
   "id": "5006ed2c-9e73-43ef-9ed6-5e67c43f24d9",
   "metadata": {},
   "outputs": [
    {
     "data": {
      "text/plain": [
       "(10000, 8)"
      ]
     },
     "execution_count": 4,
     "metadata": {},
     "output_type": "execute_result"
    }
   ],
   "source": [
    "df = df[['common_name', 'kingdom', 'phylum', 'class', 'order', 'family', 'genus', 'specific_epithet']]\n",
    "df.shape"
   ]
  },
  {
   "cell_type": "markdown",
   "id": "07301d39-f655-4770-b63c-3992973d33b9",
   "metadata": {},
   "source": [
    "## Extraemos las categorias en un fichero\n",
    "\n",
    "Guardamos las categorias en un fichero **.csv** que incorporaremos a nuestra aplicación web"
   ]
  },
  {
   "cell_type": "code",
   "execution_count": 6,
   "id": "a94c179c-9092-4fbe-9178-34f999dfb57a",
   "metadata": {},
   "outputs": [],
   "source": [
    "df.to_csv('categorias_iNat2021.txt', sep='\\t', index=False)"
   ]
  }
 ],
 "metadata": {
  "kernelspec": {
   "display_name": "Python 3 (ipykernel)",
   "language": "python",
   "name": "python3"
  },
  "language_info": {
   "codemirror_mode": {
    "name": "ipython",
    "version": 3
   },
   "file_extension": ".py",
   "mimetype": "text/x-python",
   "name": "python",
   "nbconvert_exporter": "python",
   "pygments_lexer": "ipython3",
   "version": "3.9.13"
  }
 },
 "nbformat": 4,
 "nbformat_minor": 5
}
